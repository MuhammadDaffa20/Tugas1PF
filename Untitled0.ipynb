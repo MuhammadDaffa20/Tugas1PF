{
  "cells": [
    {
      "cell_type": "code",
      "execution_count": null,
      "metadata": {
        "id": "hBjw_VCrD-WK"
      },
      "outputs": [],
      "source": [
        "class Barang:\n",
        "    def __init__(self, nama, harga, stok):\n",
        "        self.nama = nama\n",
        "        self.harga = harga\n",
        "        self.stok = stok\n"
      ]
    },
    {
      "cell_type": "code",
      "execution_count": null,
      "metadata": {
        "id": "3w1CUJUWEd6P"
      },
      "outputs": [],
      "source": [
        "class Penjual:\n",
        "    def __init__(self):\n",
        "        self.list_barang = []\n",
        "\n",
        "\n",
        "    def tambah_barang(self, nama, harga, stok):\n",
        "        barang_baru = Barang(nama, harga, stok)\n",
        "        self.list_barang.append(barang_baru)\n",
        "        print(f\"Barang {nama} telah ditambahkan.\")\n",
        "\n",
        "\n",
        "    def lihat_barang(self):\n",
        "        if not self.list_barang:\n",
        "            print(\"Belum ada barang yang ditambahkan.\")\n",
        "        else:\n",
        "            for barang in self.list_barang:\n",
        "                print(f\"Nama: {barang.nama}, Harga: {barang.harga}, Stok: {barang.stok}\")\n",
        "\n",
        "\n",
        "    def update_stok(self, nama, stok_baru):\n",
        "        for barang in self.list_barang:\n",
        "            if barang.nama == nama:\n",
        "                barang.stok = stok_baru\n",
        "                print(f\"Stok barang {nama} telah diperbarui menjadi {stok_baru}.\")\n",
        "                return\n",
        "        print(\"Barang tidak ditemukan.\")\n",
        "\n",
        "\n",
        "    def hapus_barang(self, nama):\n",
        "        for barang in self.list_barang:\n",
        "            if barang.nama == nama:\n",
        "                self.list_barang.remove(barang)\n",
        "                print(f\"Barang {nama} telah dihapus.\")\n",
        "                return\n",
        "        print(\"Barang tidak ditemukan.\")\n"
      ]
    },
    {
      "cell_type": "code",
      "execution_count": null,
      "metadata": {
        "id": "F3J50hTgEg-o"
      },
      "outputs": [],
      "source": [
        "class Pembeli:\n",
        "    def __init__(self):\n",
        "        pass\n",
        "\n",
        "\n",
        "    def lihat_barang(self, list_barang):\n",
        "        print(\"Daftar Barang Tersedia:\")\n",
        "        for barang in list_barang:\n",
        "            if barang.stok > 0:\n",
        "                print(f\"Nama: {barang.nama}, Harga: {barang.harga}, Stok: {barang.stok}\")\n",
        "\n",
        "\n",
        "    def beli_barang(self, list_barang, nama_barang):\n",
        "        for barang in list_barang:\n",
        "            if barang.nama == nama_barang and barang.stok > 0:\n",
        "                barang.stok -= 1\n",
        "                print(f\"Anda telah membeli {barang.nama}. Stok tersisa: {barang.stok}.\")\n",
        "                return\n",
        "        print(\"Barang tidak ditemukan atau stok habis.\")\n"
      ]
    },
    {
      "cell_type": "code",
      "execution_count": 7,
      "metadata": {
        "colab": {
          "base_uri": "https://localhost:8080/",
          "height": 373
        },
        "id": "TnYVT-FwEj7W",
        "outputId": "32c93bf1-f89a-48d4-f850-3d09b9a05370"
      },
      "outputs": [
        {
          "output_type": "stream",
          "name": "stdout",
          "text": [
            "Login sebagai:\n",
            "1. Penjual\n",
            "2. Pembeli\n"
          ]
        },
        {
          "output_type": "error",
          "ename": "KeyboardInterrupt",
          "evalue": "Interrupted by user",
          "traceback": [
            "\u001b[0;31m---------------------------------------------------------------------------\u001b[0m",
            "\u001b[0;31mKeyboardInterrupt\u001b[0m                         Traceback (most recent call last)",
            "\u001b[0;32m<ipython-input-7-5ba5a47c51ec>\u001b[0m in \u001b[0;36m<cell line: 61>\u001b[0;34m()\u001b[0m\n\u001b[1;32m     59\u001b[0m             \u001b[0mprint\u001b[0m\u001b[0;34m(\u001b[0m\u001b[0;34m\"Program selesai.\"\u001b[0m\u001b[0;34m)\u001b[0m\u001b[0;34m\u001b[0m\u001b[0;34m\u001b[0m\u001b[0m\n\u001b[1;32m     60\u001b[0m \u001b[0;34m\u001b[0m\u001b[0m\n\u001b[0;32m---> 61\u001b[0;31m \u001b[0mmain\u001b[0m\u001b[0;34m(\u001b[0m\u001b[0;34m)\u001b[0m\u001b[0;34m\u001b[0m\u001b[0;34m\u001b[0m\u001b[0m\n\u001b[0m",
            "\u001b[0;32m<ipython-input-7-5ba5a47c51ec>\u001b[0m in \u001b[0;36mmain\u001b[0;34m()\u001b[0m\n\u001b[1;32m     10\u001b[0m \u001b[0;34m\u001b[0m\u001b[0m\n\u001b[1;32m     11\u001b[0m     \u001b[0;32mwhile\u001b[0m \u001b[0mlogged_in\u001b[0m\u001b[0;34m:\u001b[0m\u001b[0;34m\u001b[0m\u001b[0;34m\u001b[0m\u001b[0m\n\u001b[0;32m---> 12\u001b[0;31m         \u001b[0mrole\u001b[0m \u001b[0;34m=\u001b[0m \u001b[0mlogin\u001b[0m\u001b[0;34m(\u001b[0m\u001b[0;34m)\u001b[0m\u001b[0;34m\u001b[0m\u001b[0;34m\u001b[0m\u001b[0m\n\u001b[0m\u001b[1;32m     13\u001b[0m \u001b[0;34m\u001b[0m\u001b[0m\n\u001b[1;32m     14\u001b[0m         \u001b[0;32mif\u001b[0m \u001b[0mrole\u001b[0m \u001b[0;34m==\u001b[0m \u001b[0;34m'1'\u001b[0m\u001b[0;34m:\u001b[0m  \u001b[0;31m# Penjual\u001b[0m\u001b[0;34m\u001b[0m\u001b[0;34m\u001b[0m\u001b[0m\n",
            "\u001b[0;32m<ipython-input-7-5ba5a47c51ec>\u001b[0m in \u001b[0;36mlogin\u001b[0;34m()\u001b[0m\n\u001b[1;32m      1\u001b[0m \u001b[0;32mdef\u001b[0m \u001b[0mlogin\u001b[0m\u001b[0;34m(\u001b[0m\u001b[0;34m)\u001b[0m\u001b[0;34m:\u001b[0m\u001b[0;34m\u001b[0m\u001b[0;34m\u001b[0m\u001b[0m\n\u001b[1;32m      2\u001b[0m     \u001b[0mprint\u001b[0m\u001b[0;34m(\u001b[0m\u001b[0;34m\"Login sebagai:\\n1. Penjual\\n2. Pembeli\"\u001b[0m\u001b[0;34m)\u001b[0m\u001b[0;34m\u001b[0m\u001b[0;34m\u001b[0m\u001b[0m\n\u001b[0;32m----> 3\u001b[0;31m     \u001b[0mrole\u001b[0m \u001b[0;34m=\u001b[0m \u001b[0minput\u001b[0m\u001b[0;34m(\u001b[0m\u001b[0;34m\"Pilih role (1/2): \"\u001b[0m\u001b[0;34m)\u001b[0m\u001b[0;34m\u001b[0m\u001b[0;34m\u001b[0m\u001b[0m\n\u001b[0m\u001b[1;32m      4\u001b[0m     \u001b[0;32mreturn\u001b[0m \u001b[0mrole\u001b[0m\u001b[0;34m\u001b[0m\u001b[0;34m\u001b[0m\u001b[0m\n\u001b[1;32m      5\u001b[0m \u001b[0;34m\u001b[0m\u001b[0m\n",
            "\u001b[0;32m/usr/local/lib/python3.10/dist-packages/ipykernel/kernelbase.py\u001b[0m in \u001b[0;36mraw_input\u001b[0;34m(self, prompt)\u001b[0m\n\u001b[1;32m    849\u001b[0m                 \u001b[0;34m\"raw_input was called, but this frontend does not support input requests.\"\u001b[0m\u001b[0;34m\u001b[0m\u001b[0;34m\u001b[0m\u001b[0m\n\u001b[1;32m    850\u001b[0m             )\n\u001b[0;32m--> 851\u001b[0;31m         return self._input_request(str(prompt),\n\u001b[0m\u001b[1;32m    852\u001b[0m             \u001b[0mself\u001b[0m\u001b[0;34m.\u001b[0m\u001b[0m_parent_ident\u001b[0m\u001b[0;34m,\u001b[0m\u001b[0;34m\u001b[0m\u001b[0;34m\u001b[0m\u001b[0m\n\u001b[1;32m    853\u001b[0m             \u001b[0mself\u001b[0m\u001b[0;34m.\u001b[0m\u001b[0m_parent_header\u001b[0m\u001b[0;34m,\u001b[0m\u001b[0;34m\u001b[0m\u001b[0;34m\u001b[0m\u001b[0m\n",
            "\u001b[0;32m/usr/local/lib/python3.10/dist-packages/ipykernel/kernelbase.py\u001b[0m in \u001b[0;36m_input_request\u001b[0;34m(self, prompt, ident, parent, password)\u001b[0m\n\u001b[1;32m    893\u001b[0m             \u001b[0;32mexcept\u001b[0m \u001b[0mKeyboardInterrupt\u001b[0m\u001b[0;34m:\u001b[0m\u001b[0;34m\u001b[0m\u001b[0;34m\u001b[0m\u001b[0m\n\u001b[1;32m    894\u001b[0m                 \u001b[0;31m# re-raise KeyboardInterrupt, to truncate traceback\u001b[0m\u001b[0;34m\u001b[0m\u001b[0;34m\u001b[0m\u001b[0m\n\u001b[0;32m--> 895\u001b[0;31m                 \u001b[0;32mraise\u001b[0m \u001b[0mKeyboardInterrupt\u001b[0m\u001b[0;34m(\u001b[0m\u001b[0;34m\"Interrupted by user\"\u001b[0m\u001b[0;34m)\u001b[0m \u001b[0;32mfrom\u001b[0m \u001b[0;32mNone\u001b[0m\u001b[0;34m\u001b[0m\u001b[0;34m\u001b[0m\u001b[0m\n\u001b[0m\u001b[1;32m    896\u001b[0m             \u001b[0;32mexcept\u001b[0m \u001b[0mException\u001b[0m \u001b[0;32mas\u001b[0m \u001b[0me\u001b[0m\u001b[0;34m:\u001b[0m\u001b[0;34m\u001b[0m\u001b[0;34m\u001b[0m\u001b[0m\n\u001b[1;32m    897\u001b[0m                 \u001b[0mself\u001b[0m\u001b[0;34m.\u001b[0m\u001b[0mlog\u001b[0m\u001b[0;34m.\u001b[0m\u001b[0mwarning\u001b[0m\u001b[0;34m(\u001b[0m\u001b[0;34m\"Invalid Message:\"\u001b[0m\u001b[0;34m,\u001b[0m \u001b[0mexc_info\u001b[0m\u001b[0;34m=\u001b[0m\u001b[0;32mTrue\u001b[0m\u001b[0;34m)\u001b[0m\u001b[0;34m\u001b[0m\u001b[0;34m\u001b[0m\u001b[0m\n",
            "\u001b[0;31mKeyboardInterrupt\u001b[0m: Interrupted by user"
          ]
        }
      ],
      "source": [
        "def login():\n",
        "    print(\"Login sebagai:\\n1. Penjual\\n2. Pembeli\")\n",
        "    role = input(\"Pilih role (1/2): \")\n",
        "    return role\n",
        "\n",
        "def main():\n",
        "    penjual = Penjual()\n",
        "    pembeli = Pembeli()\n",
        "    logged_in = True\n",
        "\n",
        "    while logged_in:\n",
        "        role = login()\n",
        "\n",
        "        if role == '1':\n",
        "            print(\"\\n=== Menu Penjual ===\")\n",
        "            while True:\n",
        "                print(\"\\n1. Tambah Barang\\n2. Lihat Barang\\n3. Update Stok\\n4. Hapus Barang\\n5. Logout\")\n",
        "                pilihan = input(\"Pilih menu: \")\n",
        "\n",
        "                if pilihan == '1':\n",
        "                    nama = input(\"Nama Barang: \")\n",
        "                    harga = int(input(\"Harga: \"))\n",
        "                    stok = int(input(\"Stok: \"))\n",
        "                    penjual.tambah_barang(nama, harga, stok)\n",
        "                elif pilihan == '2':\n",
        "                    penjual.lihat_barang()\n",
        "                elif pilihan == '3':\n",
        "                    nama = input(\"Nama Barang yang Ingin Diupdate: \")\n",
        "                    stok_baru = int(input(\"Stok Baru: \"))\n",
        "                    penjual.update_stok(nama, stok_baru)\n",
        "                elif pilihan == '4':\n",
        "                    nama = input(\"Nama Barang yang Ingin Dihapus: \")\n",
        "                    penjual.hapus_barang(nama)\n",
        "                elif pilihan == '5':\n",
        "                    print(\"Logout berhasil.\")\n",
        "                    break\n",
        "\n",
        "        elif role == '2':\n",
        "            print(\"\\n=== Menu Pembeli ===\")\n",
        "            while True:\n",
        "                print(\"\\n1. Lihat Barang\\n2. Beli Barang\\n3. Logout\")\n",
        "                pilihan = input(\"Pilih menu: \")\n",
        "\n",
        "                if pilihan == '1':\n",
        "                    pembeli.lihat_barang(penjual.list_barang)\n",
        "                elif pilihan == '2':\n",
        "                    nama_barang = input(\"Nama Barang yang Ingin Dibeli: \")\n",
        "                    pembeli.beli_barang(penjual.list_barang, nama_barang)\n",
        "                elif pilihan == '3':\n",
        "                    print(\"Logout berhasil.\")\n",
        "                    break\n",
        "\n",
        "        else:\n",
        "            print(\"Pilihan tidak valid.\")\n",
        "\n",
        "        lanjutkan = input(\"Apakah ingin melanjutkan (y/n)? \")\n",
        "        if lanjutkan.lower() == 'n':\n",
        "            logged_in = False\n",
        "            print(\"Program selesai.\")\n",
        "\n",
        "main()\n"
      ]
    },
    {
      "cell_type": "code",
      "execution_count": null,
      "metadata": {
        "id": "-PdLwYE-EnyG"
      },
      "outputs": [],
      "source": []
    }
  ],
  "metadata": {
    "colab": {
      "provenance": []
    },
    "kernelspec": {
      "display_name": "Python 3",
      "name": "python3"
    },
    "language_info": {
      "name": "python"
    }
  },
  "nbformat": 4,
  "nbformat_minor": 0
}